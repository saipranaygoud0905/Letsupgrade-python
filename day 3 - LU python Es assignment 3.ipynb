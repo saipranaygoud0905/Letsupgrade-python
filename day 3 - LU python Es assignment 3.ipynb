{
 "cells": [
  {
   "cell_type": "code",
   "execution_count": 4,
   "metadata": {},
   "outputs": [
    {
     "name": "stdout",
     "output_type": "stream",
     "text": [
      "2 --> 1\n",
      "3 --> 3\n",
      "4 --> 6\n",
      "5 --> 10\n",
      "6 --> 15\n",
      "7 --> 21\n",
      "8 --> 28\n",
      "9 --> 36\n",
      "10 --> 45\n",
      "11 --> 55\n",
      "sum of number is 55\n"
     ]
    }
   ],
   "source": [
    "#assignment 1 : sum of n numbers with help while loop \n",
    "sum1 = 0\n",
    "i = 1\n",
    "while i <= 10:\n",
    "    sum1 += i\n",
    "    i += 1\n",
    "    print(i, \"-->\",sum1)\n",
    "print(\"sum of number is\",sum1)    "
   ]
  },
  {
   "cell_type": "code",
   "execution_count": 6,
   "metadata": {},
   "outputs": [
    {
     "name": "stdout",
     "output_type": "stream",
     "text": [
      "Enter Number:6\n",
      "6 is not a prime number\n"
     ]
    }
   ],
   "source": [
    "#assignment 2 : take a integer and find prime or not\n",
    "num = int(input(\"Enter Number:\"))\n",
    "if num > 1:\n",
    "    for i in range (2,num):\n",
    "        if (num%i) == 0:\n",
    "            print(num,\"is not a prime number\")\n",
    "            break\n",
    "    else:\n",
    "        print(num,\"is a prime number\")\n",
    "else:\n",
    "    print(num,\"is not a prime number\")"
   ]
  },
  {
   "cell_type": "code",
   "execution_count": null,
   "metadata": {},
   "outputs": [],
   "source": []
  }
 ],
 "metadata": {
  "kernelspec": {
   "display_name": "Python 3",
   "language": "python",
   "name": "python3"
  },
  "language_info": {
   "codemirror_mode": {
    "name": "ipython",
    "version": 3
   },
   "file_extension": ".py",
   "mimetype": "text/x-python",
   "name": "python",
   "nbconvert_exporter": "python",
   "pygments_lexer": "ipython3",
   "version": "3.7.6"
  }
 },
 "nbformat": 4,
 "nbformat_minor": 4
}
